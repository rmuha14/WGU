{
 "cells": [
  {
   "cell_type": "code",
   "execution_count": 45,
   "metadata": {},
   "outputs": [
    {
     "name": "stdout",
     "output_type": "stream",
     "text": [
      "Populating the interactive namespace from numpy and matplotlib\n"
     ]
    }
   ],
   "source": [
    "import pickle\n",
    "from collections import defaultdict\n",
    "import pandas as pd\n",
    "import seaborn as sns\n",
    "import matplotlib.pyplot as plt\n",
    "%pylab inline\n",
    "# Change figure size into 8 by 6 inches\n",
    "matplotlib.rcParams['figure.figsize'] = (8, 6)\n",
    "\n",
    "import warnings\n",
    "warnings.filterwarnings(\"ignore\")\n",
    "from sklearn.metrics import accuracy_score, precision_score, recall_score, f1_score, confusion_matrix, classification_report\n",
    "from sklearn.feature_selection import SelectKBest\n",
    "from sklearn.tree import DecisionTreeClassifier\n",
    "from sklearn.model_selection import train_test_split, StratifiedShuffleSplit, GridSearchCV\n",
    "from sklearn.naive_bayes import GaussianNB\n",
    "from sklearn.ensemble import AdaBoostClassifier, RandomForestClassifier\n",
    "from sklearn.preprocessing import MinMaxScaler\n",
    "from sklearn.neighbors import KNeighborsClassifier\n",
    "from sklearn.svm import SVC\n",
    "from sklearn import preprocessing"
   ]
  },
  {
   "cell_type": "code",
   "execution_count": 15,
   "metadata": {},
   "outputs": [],
   "source": [
    "### Task 1: Select what features you'll use.\n",
    "### features_list is a list of strings, each of which is a feature name.\n",
    "### The first feature must be \"poi\".\n",
    "# You will need to use more features\n",
    "financial_features = ['salary', 'deferral_payments', 'total_payments', \\\n",
    "'loan_advances', 'bonus', 'restricted_stock_deferred', 'deferred_income', \\\n",
    "'total_stock_value', 'expenses', 'exercised_stock_options', 'other', \\\n",
    "'long_term_incentive', 'restricted_stock', 'director_fees'] \n",
    "email_features = ['to_messages', 'from_poi_to_this_person', 'from_messages', \\\n",
    "'from_this_person_to_poi', 'shared_receipt_with_poi']\n",
    "poi_label = ['poi']\n",
    "features_list = poi_label + email_features + financial_features"
   ]
  },
  {
   "cell_type": "code",
   "execution_count": 4,
   "metadata": {},
   "outputs": [],
   "source": [
    "# Load the dataset\n",
    "with open('final_project_dataset.pkl', 'rb') as data_file:\n",
    "    data_dict = pickle.load(data_file)"
   ]
  },
  {
   "cell_type": "code",
   "execution_count": 16,
   "metadata": {},
   "outputs": [
    {
     "name": "stdout",
     "output_type": "stream",
     "text": [
      "Total number of data points: 146\n",
      "Total number of poi: 18\n",
      "Total number of non-poi: 128\n"
     ]
    }
   ],
   "source": [
    "# Total number of data points\n",
    "print(\"Total number of data points: %i\" %len(data_dict))\n",
    "# Allocation across classes (POI/non-POI)\n",
    "poi = 0\n",
    "for person in data_dict:\n",
    "    if data_dict[person]['poi'] == True:\n",
    "       poi += 1\n",
    "print(\"Total number of poi: %i\" % poi)\n",
    "print(\"Total number of non-poi: %i\" % (len(data_dict) - poi))\n",
    "       "
   ]
  },
  {
   "cell_type": "code",
   "execution_count": 7,
   "metadata": {},
   "outputs": [
    {
     "name": "stdout",
     "output_type": "stream",
     "text": [
      "There are 21 features.\n"
     ]
    },
    {
     "data": {
      "text/plain": [
       "['salary',\n",
       " 'to_messages',\n",
       " 'deferral_payments',\n",
       " 'total_payments',\n",
       " 'exercised_stock_options',\n",
       " 'bonus',\n",
       " 'restricted_stock',\n",
       " 'shared_receipt_with_poi',\n",
       " 'restricted_stock_deferred',\n",
       " 'total_stock_value',\n",
       " 'expenses',\n",
       " 'loan_advances',\n",
       " 'from_messages',\n",
       " 'other',\n",
       " 'from_this_person_to_poi',\n",
       " 'poi',\n",
       " 'director_fees',\n",
       " 'deferred_income',\n",
       " 'long_term_incentive',\n",
       " 'email_address',\n",
       " 'from_poi_to_this_person']"
      ]
     },
     "execution_count": 7,
     "metadata": {},
     "output_type": "execute_result"
    }
   ],
   "source": [
    "# Number of features\n",
    "print('There are {} features.'.format(len(list(data_dict.values())[0])))\n",
    "# Names of features\n",
    "list(list(data_dict.values())[0].keys())"
   ]
  },
  {
   "cell_type": "code",
   "execution_count": 8,
   "metadata": {},
   "outputs": [
    {
     "data": {
      "text/html": [
       "<div>\n",
       "<style scoped>\n",
       "    .dataframe tbody tr th:only-of-type {\n",
       "        vertical-align: middle;\n",
       "    }\n",
       "\n",
       "    .dataframe tbody tr th {\n",
       "        vertical-align: top;\n",
       "    }\n",
       "\n",
       "    .dataframe thead th {\n",
       "        text-align: right;\n",
       "    }\n",
       "</style>\n",
       "<table border=\"1\" class=\"dataframe\">\n",
       "  <thead>\n",
       "    <tr style=\"text-align: right;\">\n",
       "      <th></th>\n",
       "      <th># NaN in POIs</th>\n",
       "      <th># NaN in non-POIs</th>\n",
       "      <th># NaN total</th>\n",
       "      <th>% NaN in POIs</th>\n",
       "      <th>% NaN in non-POIs</th>\n",
       "      <th>% NaN total</th>\n",
       "    </tr>\n",
       "  </thead>\n",
       "  <tbody>\n",
       "    <tr>\n",
       "      <th>bonus</th>\n",
       "      <td>2.0</td>\n",
       "      <td>62.0</td>\n",
       "      <td>64.0</td>\n",
       "      <td>11.111111</td>\n",
       "      <td>48.43750</td>\n",
       "      <td>43.835616</td>\n",
       "    </tr>\n",
       "    <tr>\n",
       "      <th>deferral_payments</th>\n",
       "      <td>13.0</td>\n",
       "      <td>94.0</td>\n",
       "      <td>107.0</td>\n",
       "      <td>72.222222</td>\n",
       "      <td>73.43750</td>\n",
       "      <td>73.287671</td>\n",
       "    </tr>\n",
       "    <tr>\n",
       "      <th>deferred_income</th>\n",
       "      <td>7.0</td>\n",
       "      <td>90.0</td>\n",
       "      <td>97.0</td>\n",
       "      <td>38.888889</td>\n",
       "      <td>70.31250</td>\n",
       "      <td>66.438356</td>\n",
       "    </tr>\n",
       "    <tr>\n",
       "      <th>director_fees</th>\n",
       "      <td>18.0</td>\n",
       "      <td>111.0</td>\n",
       "      <td>129.0</td>\n",
       "      <td>100.000000</td>\n",
       "      <td>86.71875</td>\n",
       "      <td>88.356164</td>\n",
       "    </tr>\n",
       "    <tr>\n",
       "      <th>email_address</th>\n",
       "      <td>0.0</td>\n",
       "      <td>35.0</td>\n",
       "      <td>35.0</td>\n",
       "      <td>0.000000</td>\n",
       "      <td>27.34375</td>\n",
       "      <td>23.972603</td>\n",
       "    </tr>\n",
       "    <tr>\n",
       "      <th>exercised_stock_options</th>\n",
       "      <td>6.0</td>\n",
       "      <td>38.0</td>\n",
       "      <td>44.0</td>\n",
       "      <td>33.333333</td>\n",
       "      <td>29.68750</td>\n",
       "      <td>30.136986</td>\n",
       "    </tr>\n",
       "    <tr>\n",
       "      <th>expenses</th>\n",
       "      <td>0.0</td>\n",
       "      <td>51.0</td>\n",
       "      <td>51.0</td>\n",
       "      <td>0.000000</td>\n",
       "      <td>39.84375</td>\n",
       "      <td>34.931507</td>\n",
       "    </tr>\n",
       "    <tr>\n",
       "      <th>from_messages</th>\n",
       "      <td>4.0</td>\n",
       "      <td>56.0</td>\n",
       "      <td>60.0</td>\n",
       "      <td>22.222222</td>\n",
       "      <td>43.75000</td>\n",
       "      <td>41.095890</td>\n",
       "    </tr>\n",
       "    <tr>\n",
       "      <th>from_poi_to_this_person</th>\n",
       "      <td>4.0</td>\n",
       "      <td>56.0</td>\n",
       "      <td>60.0</td>\n",
       "      <td>22.222222</td>\n",
       "      <td>43.75000</td>\n",
       "      <td>41.095890</td>\n",
       "    </tr>\n",
       "    <tr>\n",
       "      <th>from_this_person_to_poi</th>\n",
       "      <td>4.0</td>\n",
       "      <td>56.0</td>\n",
       "      <td>60.0</td>\n",
       "      <td>22.222222</td>\n",
       "      <td>43.75000</td>\n",
       "      <td>41.095890</td>\n",
       "    </tr>\n",
       "    <tr>\n",
       "      <th>loan_advances</th>\n",
       "      <td>17.0</td>\n",
       "      <td>125.0</td>\n",
       "      <td>142.0</td>\n",
       "      <td>94.444444</td>\n",
       "      <td>97.65625</td>\n",
       "      <td>97.260274</td>\n",
       "    </tr>\n",
       "    <tr>\n",
       "      <th>long_term_incentive</th>\n",
       "      <td>6.0</td>\n",
       "      <td>74.0</td>\n",
       "      <td>80.0</td>\n",
       "      <td>33.333333</td>\n",
       "      <td>57.81250</td>\n",
       "      <td>54.794521</td>\n",
       "    </tr>\n",
       "    <tr>\n",
       "      <th>other</th>\n",
       "      <td>0.0</td>\n",
       "      <td>53.0</td>\n",
       "      <td>53.0</td>\n",
       "      <td>0.000000</td>\n",
       "      <td>41.40625</td>\n",
       "      <td>36.301370</td>\n",
       "    </tr>\n",
       "    <tr>\n",
       "      <th>restricted_stock</th>\n",
       "      <td>1.0</td>\n",
       "      <td>35.0</td>\n",
       "      <td>36.0</td>\n",
       "      <td>5.555556</td>\n",
       "      <td>27.34375</td>\n",
       "      <td>24.657534</td>\n",
       "    </tr>\n",
       "    <tr>\n",
       "      <th>restricted_stock_deferred</th>\n",
       "      <td>18.0</td>\n",
       "      <td>110.0</td>\n",
       "      <td>128.0</td>\n",
       "      <td>100.000000</td>\n",
       "      <td>85.93750</td>\n",
       "      <td>87.671233</td>\n",
       "    </tr>\n",
       "    <tr>\n",
       "      <th>salary</th>\n",
       "      <td>1.0</td>\n",
       "      <td>50.0</td>\n",
       "      <td>51.0</td>\n",
       "      <td>5.555556</td>\n",
       "      <td>39.06250</td>\n",
       "      <td>34.931507</td>\n",
       "    </tr>\n",
       "    <tr>\n",
       "      <th>shared_receipt_with_poi</th>\n",
       "      <td>4.0</td>\n",
       "      <td>56.0</td>\n",
       "      <td>60.0</td>\n",
       "      <td>22.222222</td>\n",
       "      <td>43.75000</td>\n",
       "      <td>41.095890</td>\n",
       "    </tr>\n",
       "    <tr>\n",
       "      <th>to_messages</th>\n",
       "      <td>4.0</td>\n",
       "      <td>56.0</td>\n",
       "      <td>60.0</td>\n",
       "      <td>22.222222</td>\n",
       "      <td>43.75000</td>\n",
       "      <td>41.095890</td>\n",
       "    </tr>\n",
       "    <tr>\n",
       "      <th>total_payments</th>\n",
       "      <td>0.0</td>\n",
       "      <td>21.0</td>\n",
       "      <td>21.0</td>\n",
       "      <td>0.000000</td>\n",
       "      <td>16.40625</td>\n",
       "      <td>14.383562</td>\n",
       "    </tr>\n",
       "    <tr>\n",
       "      <th>total_stock_value</th>\n",
       "      <td>0.0</td>\n",
       "      <td>20.0</td>\n",
       "      <td>20.0</td>\n",
       "      <td>0.000000</td>\n",
       "      <td>15.62500</td>\n",
       "      <td>13.698630</td>\n",
       "    </tr>\n",
       "  </tbody>\n",
       "</table>\n",
       "</div>"
      ],
      "text/plain": [
       "                           # NaN in POIs  # NaN in non-POIs  # NaN total  \\\n",
       "bonus                                2.0               62.0         64.0   \n",
       "deferral_payments                   13.0               94.0        107.0   \n",
       "deferred_income                      7.0               90.0         97.0   \n",
       "director_fees                       18.0              111.0        129.0   \n",
       "email_address                        0.0               35.0         35.0   \n",
       "exercised_stock_options              6.0               38.0         44.0   \n",
       "expenses                             0.0               51.0         51.0   \n",
       "from_messages                        4.0               56.0         60.0   \n",
       "from_poi_to_this_person              4.0               56.0         60.0   \n",
       "from_this_person_to_poi              4.0               56.0         60.0   \n",
       "loan_advances                       17.0              125.0        142.0   \n",
       "long_term_incentive                  6.0               74.0         80.0   \n",
       "other                                0.0               53.0         53.0   \n",
       "restricted_stock                     1.0               35.0         36.0   \n",
       "restricted_stock_deferred           18.0              110.0        128.0   \n",
       "salary                               1.0               50.0         51.0   \n",
       "shared_receipt_with_poi              4.0               56.0         60.0   \n",
       "to_messages                          4.0               56.0         60.0   \n",
       "total_payments                       0.0               21.0         21.0   \n",
       "total_stock_value                    0.0               20.0         20.0   \n",
       "\n",
       "                           % NaN in POIs  % NaN in non-POIs  % NaN total  \n",
       "bonus                          11.111111           48.43750    43.835616  \n",
       "deferral_payments              72.222222           73.43750    73.287671  \n",
       "deferred_income                38.888889           70.31250    66.438356  \n",
       "director_fees                 100.000000           86.71875    88.356164  \n",
       "email_address                   0.000000           27.34375    23.972603  \n",
       "exercised_stock_options        33.333333           29.68750    30.136986  \n",
       "expenses                        0.000000           39.84375    34.931507  \n",
       "from_messages                  22.222222           43.75000    41.095890  \n",
       "from_poi_to_this_person        22.222222           43.75000    41.095890  \n",
       "from_this_person_to_poi        22.222222           43.75000    41.095890  \n",
       "loan_advances                  94.444444           97.65625    97.260274  \n",
       "long_term_incentive            33.333333           57.81250    54.794521  \n",
       "other                           0.000000           41.40625    36.301370  \n",
       "restricted_stock                5.555556           27.34375    24.657534  \n",
       "restricted_stock_deferred     100.000000           85.93750    87.671233  \n",
       "salary                          5.555556           39.06250    34.931507  \n",
       "shared_receipt_with_poi        22.222222           43.75000    41.095890  \n",
       "to_messages                    22.222222           43.75000    41.095890  \n",
       "total_payments                  0.000000           16.40625    14.383562  \n",
       "total_stock_value               0.000000           15.62500    13.698630  "
      ]
     },
     "execution_count": 8,
     "metadata": {},
     "output_type": "execute_result"
    }
   ],
   "source": [
    "# Features with missing values\n",
    "nan_counts_poi = defaultdict(int)\n",
    "nan_counts_non_poi = defaultdict(int)\n",
    "for data_point in data_dict.values():\n",
    "    if data_point['poi'] == True:\n",
    "        for feature, value in data_point.items():\n",
    "            if value == \"NaN\":\n",
    "                nan_counts_poi[feature] += 1\n",
    "    elif data_point['poi'] == False:\n",
    "        for feature, value in data_point.items():\n",
    "            if value == \"NaN\":\n",
    "                nan_counts_non_poi[feature] += 1\n",
    "    else:\n",
    "        print('Got an uncategorized person.')\n",
    "nan_counts_df = pd.DataFrame([nan_counts_poi, nan_counts_non_poi]).T\n",
    "nan_counts_df = nan_counts_df.fillna(value=0)\n",
    "nan_counts_df.columns = ['# NaN in POIs', '# NaN in non-POIs']\n",
    "nan_counts_df['# NaN total'] = nan_counts_df['# NaN in POIs'] + \\\n",
    "                               nan_counts_df['# NaN in non-POIs']\n",
    "nan_counts_df['% NaN in POIs'] = nan_counts_df['# NaN in POIs'] / \\\n",
    "                                          poi_counts[True] * 100\n",
    "nan_counts_df['% NaN in non-POIs'] = nan_counts_df['# NaN in non-POIs'] / \\\n",
    "                                          poi_counts[False] * 100\n",
    "nan_counts_df['% NaN total'] = nan_counts_df['# NaN total'] / \\\n",
    "                                          len(data_dict) * 100\n",
    "    \n",
    "nan_counts_df"
   ]
  },
  {
   "cell_type": "code",
   "execution_count": 9,
   "metadata": {},
   "outputs": [
    {
     "data": {
      "text/plain": [
       "Text(0,0.5,'Variable Name')"
      ]
     },
     "execution_count": 9,
     "metadata": {},
     "output_type": "execute_result"
    },
    {
     "data": {
      "image/png": "[encoded data removed]",
      "text/plain": [
       "<Figure size 576x432 with 1 Axes>"
      ]
     },
     "metadata": {
      "needs_background": "light"
     },
     "output_type": "display_data"
    }
   ],
   "source": [
    "# Plot missing values distribution\n",
    "ax = nan_counts_df.sort_values('# NaN total')[['% NaN in POIs', '% NaN in non-POIs']].plot(kind='barh', \n",
    "                                                                                    stacked=False)\n",
    "ax.set_title('Percent of Missing Values Distribution')\n",
    "ax.set_xlabel('Percent of Missing Values')\n",
    "ax.set_ylabel('Variable Name')"
   ]
  },
  {
   "cell_type": "code",
   "execution_count": 17,
   "metadata": {},
   "outputs": [
    {
     "data": {
      "image/png": "[encoded data removed]",
      "text/plain": [
       "<Figure size 576x432 with 1 Axes>"
      ]
     },
     "metadata": {
      "needs_background": "light"
     },
     "output_type": "display_data"
    },
    {
     "name": "stdout",
     "output_type": "stream",
     "text": [
      "None\n"
     ]
    },
    {
     "data": {
      "image/png": "[encoded data removed]",
      "text/plain": [
       "<Figure size 576x432 with 1 Axes>"
      ]
     },
     "metadata": {
      "needs_background": "light"
     },
     "output_type": "display_data"
    },
    {
     "name": "stdout",
     "output_type": "stream",
     "text": [
      "None\n"
     ]
    },
    {
     "data": {
      "image/png": "[encoded data removed]",
      "text/plain": [
       "<Figure size 576x432 with 1 Axes>"
      ]
     },
     "metadata": {
      "needs_background": "light"
     },
     "output_type": "display_data"
    },
    {
     "name": "stdout",
     "output_type": "stream",
     "text": [
      "None\n"
     ]
    },
    {
     "data": {
      "image/png": "[encoded data removed]",
      "text/plain": [
       "<Figure size 576x432 with 1 Axes>"
      ]
     },
     "metadata": {
      "needs_background": "light"
     },
     "output_type": "display_data"
    },
    {
     "name": "stdout",
     "output_type": "stream",
     "text": [
      "None\n",
      "Outlier:\n",
      "[('TOTAL', 309886585), ('LAY KENNETH L', 103559793), ('FREVERT MARK A', 17252530), ('BHATNAGAR SANJAY', 15456290)]\n"
     ]
    },
    {
     "data": {
      "text/plain": [
       "[('METTS MARK', 0),\n",
       " ('CORDES WILLIAM R', 0),\n",
       " ('HANNON KEVIN P', 0),\n",
       " ('MEYER ROCKFORD G', 0),\n",
       " ('MCMAHON JEFFREY', 0),\n",
       " ('HAEDICKE MARK E', 0),\n",
       " ('PIPER GREGORY F', 0),\n",
       " ('HUMPHREY GENE E', 0),\n",
       " ('BLACHMAN JEREMY M', 0),\n",
       " ('SUNDE MARTIN', 0),\n",
       " ('GIBBS DANA R', 0),\n",
       " ('COLWELL WESLEY', 0),\n",
       " ('MULLER MARK S', 0),\n",
       " ('JACKSON CHARLENE R', 0),\n",
       " ('WALLS JR ROBERT H', 0),\n",
       " ('KITCHEN LOUISE', 0),\n",
       " ('SHANKMAN JEFFREY A', 0),\n",
       " ('BERGSIEKER RICHARD P', 0),\n",
       " ('BIBI PHILIPPE A', 0),\n",
       " ('RIEKER PAULA H', 0),\n",
       " ('BECK SALLY W', 0),\n",
       " ('HAUG DAVID L', 0),\n",
       " ('HICKERSON GARY J', 0),\n",
       " ('LEWIS RICHARD', 0),\n",
       " ('HAYES ROBERT E', 0),\n",
       " ('LEFF DANIEL P', 0),\n",
       " ('LAVORATO JOHN J', 0),\n",
       " ('POWERS WILLIAM', 0),\n",
       " ('BANNANTINE JAMES M', 0),\n",
       " ('SHAPIRO RICHARD S', 0),\n",
       " ('SHERRIFF JOHN R', 0),\n",
       " ('SHELBY REX', 0),\n",
       " ('DEFFNER JOSEPH M', 0),\n",
       " ('WHALLEY LAWRENCE G', 0),\n",
       " ('PIRO JIM', 0),\n",
       " ('MCCONNELL MICHAEL S', 0),\n",
       " ('DELAINEY DAVID W', 0),\n",
       " ('LAY KENNETH L', 0),\n",
       " ('OLSON CINDY K', 0),\n",
       " ('MCDONALD REBECCA', 0),\n",
       " ('FALLON JAMES B', 0),\n",
       " ('HORTON STANLEY C', 0),\n",
       " ('BOWEN JR RAYMOND M', 0),\n",
       " ('FITZGERALD JAY L', 0),\n",
       " ('MORAN MICHAEL P', 0),\n",
       " ('REDMOND BRIAN L', 0),\n",
       " ('BELDEN TIMOTHY N', 0),\n",
       " ('DURAN WILLIAM D', 0),\n",
       " ('THORN TERENCE H', 0),\n",
       " ('FOY JOE', 0),\n",
       " ('CALGER CHRISTOPHER F', 0),\n",
       " ('RICE KENNETH D', 0),\n",
       " ('KAMINSKI WINCENTY J', 0),\n",
       " ('COX DAVID', 0),\n",
       " ('SKILLING JEFFREY K', 0),\n",
       " ('SHERRICK JEFFREY B', 0),\n",
       " ('UMANOFF ADAM S', 0),\n",
       " ('KEAN STEVEN J', 0),\n",
       " ('FOWLER PEGGY', 0),\n",
       " ('WASAFF GEORGE', 0),\n",
       " ('ALLEN PHILLIP K', 0),\n",
       " ('SHARP VICTORIA T', 0),\n",
       " ('BROWN MICHAEL', 0),\n",
       " ('MCCLELLAN GEORGE', 0),\n",
       " ('HUGHES JAMES A', 0),\n",
       " ('PICKERING MARK R', 0),\n",
       " ('BHATNAGAR SANJAY', 0),\n",
       " ('CARTER REBECCA C', 0),\n",
       " ('BUCHANAN HAROLD G', 0),\n",
       " ('MURRAY JULIA H', 0),\n",
       " ('GARLAND C KEVIN', 0),\n",
       " ('DODSON KEITH', 0),\n",
       " ('DIETRICH JANET R', 0),\n",
       " ('DERRICK JR. JAMES V', 0),\n",
       " ('FREVERT MARK A', 0),\n",
       " ('HAYSLETT RODERICK J', 0),\n",
       " ('MCCARTY DANNY J', 0),\n",
       " ('KOENIG MARK E', 0),\n",
       " ('IZZO LAWRENCE L', 0),\n",
       " ('TILNEY ELIZABETH A', 0),\n",
       " ('MARTIN AMANDA K', 0),\n",
       " ('BUY RICHARD B', 0),\n",
       " ('CAUSEY RICHARD A', 0),\n",
       " ('TAYLOR MITCHELL S', 0),\n",
       " ('DONAHUE JR JEFFREY M', 0),\n",
       " ('GLISAN JR BEN F', 0),\n",
       " ('BAXTER JOHN C', 5),\n",
       " ('ELLIOTT STEVEN', 5),\n",
       " ('MORDAUNT KRISTINA M', 5),\n",
       " ('NOLES JAMES L', 5),\n",
       " ('LOWRY CHARLES P', 5),\n",
       " ('WESTFAHL RICHARD K', 5),\n",
       " ('WALTERS GARETH W', 5),\n",
       " ('CHAN RONNIE', 5),\n",
       " ('BELFER ROBERT', 5),\n",
       " ('WODRASKA JOHN', 5),\n",
       " ('URQUHART JOHN A', 5),\n",
       " ('WHALEY DAVID A', 5),\n",
       " ('ECHOLS JOHN B', 5),\n",
       " ('MENDELSOHN JOHN', 5),\n",
       " ('CLINE KENNETH W', 5),\n",
       " ('KOPPER MICHAEL J', 5),\n",
       " ('BERBERIAN DAVID', 5),\n",
       " ('DETMERING TIMOTHY J', 5),\n",
       " ('WAKEHAM JOHN', 5),\n",
       " ('GOLD JOSEPH', 5),\n",
       " ('DUNCAN JOHN H', 5),\n",
       " ('LEMAISTRE CHARLES', 5),\n",
       " ('KISHKILL JOSEPH G', 5),\n",
       " ('SULLIVAN-SHAKLOVITZ COLLEEN', 5),\n",
       " ('WROBEL BRUCE', 5),\n",
       " ('LINDHOLM TOD A', 5),\n",
       " ('MEYER JEROME J', 5),\n",
       " ('BUTTS ROBERT H', 5),\n",
       " ('CUMBERLAND MICHAEL S', 5),\n",
       " ('GAHN ROBERT S', 5),\n",
       " ('BADUM JAMES P', 5),\n",
       " ('HERMANN ROBERT J', 5),\n",
       " ('GATHMANN WILLIAM D', 5),\n",
       " ('GILLIS JOHN', 5),\n",
       " ('BAZELIDES PHILIP J', 5),\n",
       " ('DIMICHELE RICHARD G', 5),\n",
       " ('FASTOW ANDREW S', 5),\n",
       " ('LOCKHART EUGENE E', 5),\n",
       " ('OVERDYKE JR JERE C', 5),\n",
       " ('PEREIRA PAULO V. FERRAZ', 5),\n",
       " ('STABLER FRANK', 5),\n",
       " ('BLAKE JR. NORMAN P', 5),\n",
       " ('PRENTICE JAMES', 5),\n",
       " ('GRAY RODNEY', 5),\n",
       " ('THE TRAVEL AGENCY IN THE PARK', 5),\n",
       " ('TOTAL', 5),\n",
       " ('WHITE JR THOMAS E', 5),\n",
       " ('CHRISTODOULOU DIOMEDES', 5),\n",
       " ('JAEDICKE ROBERT', 5),\n",
       " ('WINOKUR JR. HERBERT S', 5),\n",
       " ('REYNOLDS LAWRENCE', 5),\n",
       " ('YEAP SOON', 5),\n",
       " ('YEAGER F SCOTT', 5),\n",
       " ('HIRKO JOSEPH', 5),\n",
       " ('PAI LOU L', 5),\n",
       " ('BAY FRANKLIN R', 5),\n",
       " ('FUGH JOHN L', 5),\n",
       " ('SCRIMSHAW MATTHEW', 5),\n",
       " ('SAVAGE FRANK', 5),\n",
       " ('GRAMM WENDY L', 5)]"
      ]
     },
     "execution_count": 17,
     "metadata": {},
     "output_type": "execute_result"
    }
   ],
   "source": [
    "### Task 2: Remove outliers\n",
    "def plotOutliers(data_set, feature_x, feature_y):\n",
    "    \"\"\"\n",
    "    This function takes a dict, 2 strings, and shows a 2d plot of 2 features\n",
    "    \"\"\"\n",
    "    data = featureFormat(data_set, [feature_x, feature_y])\n",
    "    for point in data:\n",
    "        x = point[0]\n",
    "        y = point[1]\n",
    "        matplotlib.pyplot.scatter( x, y )\n",
    "    matplotlib.pyplot.xlabel(feature_x)\n",
    "    matplotlib.pyplot.ylabel(feature_y)\n",
    "    matplotlib.pyplot.show()\n",
    "# Visualize data to identify outliers\n",
    "print(plotOutliers(data_dict, 'total_payments', 'total_stock_value'))\n",
    "print(plotOutliers(data_dict, 'from_poi_to_this_person', 'from_this_person_to_poi'))\n",
    "print(plotOutliers(data_dict, 'salary', 'bonus'))\n",
    "print(plotOutliers(data_dict, 'total_payments', 'other'))\n",
    "identity = []\n",
    "for person in data_dict:\n",
    "    if data_dict[person]['total_payments'] != \"NaN\":\n",
    "        identity.append((person, data_dict[person]['total_payments']))\n",
    "print(\"Outlier:\")\n",
    "print(sorted(identity, key = lambda x: x[1], reverse=True)[0:4])\n",
    "\n",
    "# Find persons whose financial features are all \"NaN\"\n",
    "fi_nan_dict = {}\n",
    "for person in data_dict:\n",
    "    fi_nan_dict[person] = 0\n",
    "    for feature in financial_features:\n",
    "        if data_dict[person][feature] == \"NaN\":\n",
    "            fi_nan_dict[person] += 1\n",
    "sorted(fi_nan_dict.items(), key=lambda x: x[1])\n",
    "\n",
    "# Find persons whose email features are all \"NaN\"\n",
    "email_nan_dict = {}\n",
    "for person in data_dict:\n",
    "    email_nan_dict[person] = 0\n",
    "    for feature in email_features:\n",
    "        if data_dict[person][feature] == \"NaN\":\n",
    "            email_nan_dict[person] += 1\n",
    "sorted(email_nan_dict.items(), key=lambda x: x[1])"
   ]
  },
  {
   "cell_type": "code",
   "execution_count": 18,
   "metadata": {},
   "outputs": [
    {
     "data": {
      "text/plain": [
       "{'bonus': 'NaN',\n",
       " 'deferral_payments': 'NaN',\n",
       " 'deferred_income': 'NaN',\n",
       " 'director_fees': 137864,\n",
       " 'email_address': 'sanjay.bhatnagar@enron.com',\n",
       " 'exercised_stock_options': 2604490,\n",
       " 'expenses': 'NaN',\n",
       " 'from_messages': 29,\n",
       " 'from_poi_to_this_person': 0,\n",
       " 'from_this_person_to_poi': 1,\n",
       " 'loan_advances': 'NaN',\n",
       " 'long_term_incentive': 'NaN',\n",
       " 'other': 137864,\n",
       " 'poi': False,\n",
       " 'restricted_stock': -2604490,\n",
       " 'restricted_stock_deferred': 15456290,\n",
       " 'salary': 'NaN',\n",
       " 'shared_receipt_with_poi': 463,\n",
       " 'to_messages': 523,\n",
       " 'total_payments': 15456290,\n",
       " 'total_stock_value': 'NaN'}"
      ]
     },
     "execution_count": 18,
     "metadata": {},
     "output_type": "execute_result"
    }
   ],
   "source": [
    "# Remove outliers\n",
    "data_dict.pop(\"TOTAL\", 0)\n",
    "data_dict.pop(\"LAY KENNETH L\", 0)\n",
    "data_dict.pop(\"FREVERT MARK A\", 0)\n",
    "data_dict.pop(\"BHATNAGAR SANJAY\", 0)"
   ]
  },
  {
   "cell_type": "code",
   "execution_count": 24,
   "metadata": {},
   "outputs": [],
   "source": [
    "### Task 3: Create new feature(s)\n",
    "### Lets Create The Follwoing New Features\n",
    "### from_this_person_to_poi_ratio\n",
    "### from_poi_to_this_person_ratio\n",
    "### salary_bonus_ratio\n",
    "\n",
    "def calculate_ratios(val1, val2):\n",
    "    result = 0\n",
    "    if val1 == 'NaN' or val2 == 'NaN':\n",
    "        result = 'NaN'\n",
    "    else :\n",
    "        result = val1/float(val2)\n",
    "\n",
    "    return result\n",
    "\n",
    "for key,value in data_dict.items():\n",
    "    value['from_this_person_to_poi_ratio'] = calculate_ratios(value['from_this_person_to_poi'], value['from_messages'])\n",
    "    value['from_poi_to_this_person_ratio'] = calculate_ratios(value['from_poi_to_this_person'], value['to_messages'])\n",
    "    value['bonus_salary_ratio'] = calculate_ratios(value['bonus'], value['salary'])\n"
   ]
  },
  {
   "cell_type": "code",
   "execution_count": 25,
   "metadata": {},
   "outputs": [],
   "source": [
    "\n",
    "### Store to my_dataset for easy export below.\n",
    "my_dataset = data_dict\n",
    "\n",
    "###The below list of features were chosen by applying SelectKbest process\n",
    "###The Top 11 features were chosen from the list for further analysis\n",
    "###The selectKBest code which is below lists the importance of each feature\n",
    "features_list = [\n",
    " 'poi',\n",
    " 'exercised_stock_options',\n",
    " 'total_stock_value',\n",
    " 'bonus',\n",
    " 'salary',\n",
    " 'from_this_person_to_poi_ratio',\n",
    " 'deferred_income',\n",
    " 'bonus_salary_ratio',\n",
    " 'long_term_incentive',\n",
    " 'restricted_stock',\n",
    "#'total_payments',\n",
    "#'shared_receipt_with_poi',\n",
    "#'loan_advances',\n",
    "#'expenses',\n",
    "#'from_poi_to_this_person',\n",
    "#'other',\n",
    "#'from_poi_to_this_person_ratio',\n",
    "#'from_this_person_to_poi',\n",
    "#'director_fees',\n",
    "#'to_messages',\n",
    "#'deferral_payments',\n",
    "#'from_messages',\n",
    "#'restricted_stock_deferred'\n",
    "]"
   ]
  },
  {
   "cell_type": "code",
   "execution_count": 26,
   "metadata": {},
   "outputs": [
    {
     "name": "stdout",
     "output_type": "stream",
     "text": [
      "Total Number Of Data Points After Removing Outliers And Feature Formatting :  137\n"
     ]
    },
    {
     "data": {
      "text/plain": [
       "\"selector = SelectKBest(f_classif, k='all')\\nselector.fit(features, labels)\\nfeature_importances_skb = selector.scores_\\nfeatures_list_with_imp = []\\nfor i in range(len(feature_importances_skb)):\\n    features_list_with_imp.append([features_list[i+1], feature_importances_skb[i]])\\nfeatures_list_with_imp = sorted(features_list_with_imp, reverse=True, key=itemgetter(1))\\nfor i in range(len(features_list_with_imp)):\\n    print features_list_with_imp[i]\""
      ]
     },
     "execution_count": 26,
     "metadata": {},
     "output_type": "execute_result"
    }
   ],
   "source": [
    "### Extract features and labels from dataset for local testing\n",
    "data = featureFormat(my_dataset, features_list, sort_keys = True)\n",
    "labels, features = targetFeatureSplit(data)\n",
    "print 'Total Number Of Data Points After Removing Outliers And Feature Formatting : ', len(features)\n",
    "\n",
    "#Code to print importance of each feature and to select best out of them for further analysis\n",
    "'''selector = SelectKBest(f_classif, k='all')\n",
    "selector.fit(features, labels)\n",
    "feature_importances_skb = selector.scores_\n",
    "features_list_with_imp = []\n",
    "for i in range(len(feature_importances_skb)):\n",
    "    features_list_with_imp.append([features_list[i+1], feature_importances_skb[i]])\n",
    "features_list_with_imp = sorted(features_list_with_imp, reverse=True, key=itemgetter(1))\n",
    "for i in range(len(features_list_with_imp)):\n",
    "    print features_list_with_imp[i]'''\n"
   ]
  },
  {
   "cell_type": "code",
   "execution_count": 29,
   "metadata": {},
   "outputs": [],
   "source": [
    "\n",
    "#Scalling The Data Using MinMaxScaler\n",
    "scaler = MinMaxScaler()\n",
    "features = scaler.fit_transform(features)\n",
    "\n",
    "#Splitting Data Into Test And Train Data\n",
    "features_train, features_test, labels_train, labels_test = \\\n",
    "    train_test_split(features, labels, test_size=0.3, random_state=42)"
   ]
  },
  {
   "cell_type": "code",
   "execution_count": 46,
   "metadata": {},
   "outputs": [
    {
     "name": "stdout",
     "output_type": "stream",
     "text": [
      "Best features:\n",
      "[('exercised_stock_options', 17.091318335661942), ('total_stock_value', 16.664119234389343), ('from_this_person_to_poi_ratio', 15.659943597514241), ('salary', 15.163726515643841), ('bonus', 13.348433528742657), ('deferred_income', 8.819328078317898), ('bonus_salary_ratio', 5.185635623733242), ('long_term_incentive', 3.1984864808840827)]\n",
      "['poi', 'exercised_stock_options', 'total_stock_value', 'from_this_person_to_poi_ratio', 'salary', 'bonus', 'deferred_income', 'bonus_salary_ratio']\n"
     ]
    }
   ],
   "source": [
    "for person in my_dataset:\n",
    "    msg_from_poi = my_dataset[person]['from_poi_to_this_person']\n",
    "    to_msg = my_dataset[person]['to_messages']\n",
    "    if msg_from_poi != \"NaN\" and to_msg != \"NaN\":\n",
    "        my_dataset[person]['msg_from_poi_ratio'] = msg_from_poi/float(to_msg)\n",
    "    else:\n",
    "        my_dataset[person]['msg_from_poi_ratio'] = 0\n",
    "    msg_to_poi = my_dataset[person]['from_this_person_to_poi']\n",
    "    from_msg = my_dataset[person]['from_messages']\n",
    "    if msg_to_poi != \"NaN\" and from_msg != \"NaN\":\n",
    "        my_dataset[person]['msg_to_poi_ratio'] = msg_to_poi/float(from_msg)\n",
    "    else:\n",
    "        my_dataset[person]['msg_to_poi_ratio'] = 0\n",
    "new_features_list = features_list + ['msg_to_poi_ratio', 'msg_from_poi_ratio']\n",
    "\n",
    "## Extract features and labels from dataset for local testing\n",
    "data = featureFormat(my_dataset, new_features_list, sort_keys = True)\n",
    "labels, features = targetFeatureSplit(data)\n",
    "\n",
    "#Select the best features: \n",
    "#Removes all features whose variance is below 80% \n",
    "from sklearn.feature_selection import VarianceThreshold\n",
    "sel = VarianceThreshold(threshold=(.8 * (1 - .8)))\n",
    "features = sel.fit_transform(features)\n",
    "\n",
    "#Removes all but the k highest scoring features\n",
    "from sklearn.feature_selection import f_classif\n",
    "k = 7\n",
    "selector = SelectKBest(f_classif, k=7)\n",
    "selector.fit_transform(features, labels)\n",
    "print(\"Best features:\")\n",
    "scores = zip(new_features_list[1:],selector.scores_)\n",
    "sorted_scores = sorted(scores, key = lambda x: x[1], reverse=True)\n",
    "print sorted_scores\n",
    "optimized_features_list = poi_label + list(map(lambda x: x[0], sorted_scores))[0:k]\n",
    "print(optimized_features_list)\n",
    "\n",
    "# Extract from dataset without new features\n",
    "data = featureFormat(my_dataset, optimized_features_list, sort_keys = True)\n",
    "labels, features = targetFeatureSplit(data)\n",
    "scaler = preprocessing.MinMaxScaler()\n",
    "features = scaler.fit_transform(features)\n",
    "# Extract from dataset with new features\n",
    "data = featureFormat(my_dataset, optimized_features_list + \\\n",
    "                     ['msg_to_poi_ratio', 'msg_from_poi_ratio'], \\\n",
    "                     sort_keys = True)\n",
    "new_f_labels, new_f_features = targetFeatureSplit(data)\n",
    "new_f_features = scaler.fit_transform(new_f_features)"
   ]
  },
  {
   "cell_type": "code",
   "execution_count": 35,
   "metadata": {},
   "outputs": [],
   "source": [
    "## Task 4: Try a varity of classifiers\n",
    "## Please name your classifier clf for easy export below.\n",
    "## Note that if you want to do PCA or other multi-stage operations,\n",
    "## you'll need to use Pipelines. For more info:\n",
    "## http://scikit-learn.org/stable/modules/pipeline.html\n",
    "\n",
    "# Provided to give you a starting point. Try a variety of classifiers.\n",
    "## Gaussian Naive Bayes Classifier\n",
    "clf = GaussianNB()\n",
    "\n",
    "### Decision Tree Classifier\n",
    "## Best Params Reported By GridSearchCV {'min_samples_split': 11, 'splitter': 'random', 'criterion': 'entropy', 'max_depth': 2, 'class_weight': None}\n",
    "clf = DecisionTreeClassifier(min_samples_split=11, splitter='random', criterion='entropy', max_depth=2, class_weight=None)\n",
    "clf = DecisionTreeClassifier()\n",
    "\n",
    "### Random Forest Classifier\n",
    "## Best Params Reported By GridSearchCV {'min_samples_split': 4, 'criterion': 'gini', 'max_depth': 7, 'class_weight': None}\n",
    "clf = RandomForestClassifier(min_samples_split=4, criterion='gini', max_depth=7, class_weight=None)\n",
    "\n",
    "## KNeighborsClassifier\n",
    "## Best Params Reported By GridSearchCV  {'n_neighbors': 6, 'weights': 'uniform', 'algorithm': 'auto'}\n",
    "clf = KNeighborsClassifier(n_neighbors=6, weights='uniform', algorithm='auto')\n",
    "\n",
    "## Params For Tuning DecisionTree\n",
    "'''params = {'criterion':['gini','entropy'],\n",
    "          'max_depth':[i for i in range(2,15)],\n",
    "          'min_samples_split':[i for i in range(2,15)],\n",
    "          #'splitter' : ['best', 'random'],\n",
    "          'class_weight' : [None, 'balanced']\n",
    "         }'''\n",
    "\n",
    "## Params For Tuning KNN\n",
    "'''params = {'n_neighbors' : [i for i in range(5,20)],\n",
    "          'weights': ['uniform', 'distance'],\n",
    "          'algorithm':['auto', 'ball_tree', 'kd_tree', 'brute'],\n",
    "          }'''\n",
    "\n",
    "\n",
    "#clf = GridSearchCV(clf, params, verbose=1000)\n",
    "clf.fit(features_train, labels_train)\n",
    "pred = clf.predict(features_test)"
   ]
  },
  {
   "cell_type": "code",
   "execution_count": 39,
   "metadata": {},
   "outputs": [],
   "source": [
    "def evaluate_clf(grid_search, features, labels, params, iters=100):\n",
    "    acc = []\n",
    "    pre = []\n",
    "    recall = []\n",
    "    for i in range(iters):\n",
    "        features_train, features_test, labels_train, labels_test = \\\n",
    "        train_test_split(features, labels, test_size=0.3, random_state=i)\n",
    "        grid_search.fit(features_train, labels_train)\n",
    "        predictions = grid_search.predict(features_test)\n",
    "        acc = acc + [accuracy_score(labels_test, predictions)] \n",
    "        pre = pre + [precision_score(labels_test, predictions)]\n",
    "        recall = recall + [recall_score(labels_test, predictions)]\n",
    "    print \"accuracy: {}\".format(mean(acc))\n",
    "    print \"precision: {}\".format(mean(pre))\n",
    "    print \"recall:    {}\".format(mean(recall))\n",
    "    best_params = grid_search.best_estimator_.get_params()\n",
    "    for param_name in params.keys():\n",
    "        print(\"%s = %r, \" % (param_name, best_params[param_name]))\n"
   ]
  },
  {
   "cell_type": "code",
   "execution_count": 42,
   "metadata": {},
   "outputs": [
    {
     "name": "stdout",
     "output_type": "stream",
     "text": [
      "Evaluate naive bayes model\n",
      "accuracy: 0.836428571429\n",
      "precision: 0.338924603175\n",
      "recall:    0.309150793651\n"
     ]
    }
   ],
   "source": [
    "from sklearn import naive_bayes        \n",
    "nb_clf = naive_bayes.GaussianNB()\n",
    "nb_param = {}\n",
    "nb_grid_search = GridSearchCV(nb_clf, nb_param)\n",
    "\n",
    "print(\"Evaluate naive bayes model\")\n",
    "evaluate_clf(nb_grid_search, features, labels, nb_param)"
   ]
  },
  {
   "cell_type": "code",
   "execution_count": 47,
   "metadata": {},
   "outputs": [
    {
     "name": "stdout",
     "output_type": "stream",
     "text": [
      "Evaluate naive bayes model using dataset with new features\n",
      "accuracy: 0.829523809524\n",
      "precision: 0.32548953824\n",
      "recall:    0.296214285714\n"
     ]
    }
   ],
   "source": [
    "print(\"Evaluate naive bayes model using dataset with new features\")\n",
    "evaluate_clf(nb_grid_search, new_f_features, new_f_labels, nb_param)"
   ]
  },
  {
   "cell_type": "code",
   "execution_count": 49,
   "metadata": {},
   "outputs": [
    {
     "name": "stdout",
     "output_type": "stream",
     "text": [
      "Evaluate logistic regression model\n",
      "accuracy: 0.860238095238\n",
      "precision: 0.391944444444\n",
      "recall:    0.202964285714\n",
      "classifier__tol = 1, \n",
      "classifier__C = 0.1, \n"
     ]
    }
   ],
   "source": [
    "from sklearn import linear_model\n",
    "from sklearn.pipeline import Pipeline\n",
    "lo_clf = Pipeline(steps=[\n",
    "        ('scaler', preprocessing.StandardScaler()),\n",
    "        ('classifier', linear_model.LogisticRegression())])\n",
    "         \n",
    "lo_param = {'classifier__tol': [1, 0.1, 0.01, 0.001, 0.0001], \\\n",
    "            'classifier__C': [0.1, 0.01, 0.001, 0.0001]}\n",
    "lo_grid_search = GridSearchCV(lo_clf, lo_param)\n",
    "print(\"Evaluate logistic regression model\")\n",
    "evaluate_clf(lo_grid_search, features, labels, lo_param)"
   ]
  },
  {
   "cell_type": "code",
   "execution_count": null,
   "metadata": {},
   "outputs": [
    {
     "name": "stdout",
     "output_type": "stream",
     "text": [
      "Evaluate svm model\n"
     ]
    }
   ],
   "source": [
    "from sklearn import svm\n",
    "s_clf = svm.SVC()\n",
    "s_param = {'kernel': ['rbf', 'linear', 'poly'], 'C': [0.1, 1, 10, 100, 1000],\\\n",
    "           'gamma': [1, 0.1, 0.01, 0.001, 0.0001], 'random_state': [42]}    \n",
    "s_grid_search = GridSearchCV(s_clf, s_param)\n",
    "print(\"Evaluate svm model\")\n",
    "evaluate_clf(s_grid_search, features, labels, s_param)"
   ]
  },
  {
   "cell_type": "code",
   "execution_count": 38,
   "metadata": {},
   "outputs": [
    {
     "name": "stdout",
     "output_type": "stream",
     "text": [
      "------------------------------------------------------\n",
      "Metrics:\n",
      "Recall Score:  0.0\n",
      "Precision Score:  0.0\n",
      "              precision    recall  f1-score   support\n",
      "\n",
      "         0.0       0.86      1.00      0.92        36\n",
      "         1.0       0.00      0.00      0.00         6\n",
      "\n",
      "   micro avg       0.86      0.86      0.86        42\n",
      "   macro avg       0.43      0.50      0.46        42\n",
      "weighted avg       0.73      0.86      0.79        42\n",
      "\n",
      "------------------------------------------------------\n"
     ]
    }
   ],
   "source": [
    "### Task 5: Tune your classifier to achieve better than .3 precision and recall \n",
    "### using our testing script. Check the tester.py script in the final project\n",
    "### folder for details on the evaluation method, especially the test_classifier\n",
    "### function. Because of the small size of the dataset, the script uses\n",
    "### stratified shuffle split cross validation. For more info: \n",
    "### http://scikit-learn.org/stable/modules/generated/sklearn.cross_validation.StratifiedShuffleSplit.html\n",
    "print '------------------------------------------------------'\n",
    "print 'Metrics:'\n",
    "print 'Recall Score: ', recall_score(labels_test, pred)\n",
    "print 'Precision Score: ', precision_score(labels_test, pred)\n",
    "print classification_report(labels_test, pred)\n",
    "print '------------------------------------------------------'"
   ]
  },
  {
   "cell_type": "code",
   "execution_count": null,
   "metadata": {},
   "outputs": [],
   "source": []
  }
 ],
 "metadata": {
  "kernelspec": {
   "display_name": "Python 2",
   "language": "python",
   "name": "python2"
  },
  "language_info": {
   "codemirror_mode": {
    "name": "ipython",
    "version": 2
   },
   "file_extension": ".py",
   "mimetype": "text/x-python",
   "name": "python",
   "nbconvert_exporter": "python",
   "pygments_lexer": "ipython2",
   "version": "2.7.16"
  }
 },
 "nbformat": 4,
 "nbformat_minor": 2
}
